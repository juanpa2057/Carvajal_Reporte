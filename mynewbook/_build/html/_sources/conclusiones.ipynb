{
 "cells": [
  {
   "cell_type": "markdown",
   "metadata": {},
   "source": [
    "## Conclusiones"
   ]
  },
  {
   "cell_type": "markdown",
   "metadata": {},
   "source": [
    "**Generales:** \n",
    "- Distribución del consumo de energía por máquina y mes: El análisis muestra que la máquina \"Energía Activa Extrusora\" tiene el mayor consumo de energía, seguida por \"Energía Activa Chiller\" y \"Energía Activa Espumas\". Estas tres máquinas representan la mayor parte del consumo total de energía.\n",
    "\n",
    "- El consumo de energía fue mayor en octubre, seguido por noviembre y agosto. Esto indica que octubre  fue el mes con mayor demanda de energía analizado.\n",
    "\n",
    "- Consumo por tipo de día: El análisis muestra que los días jueves y viernes tienen un mayor consumo de energía en comparación con los demás días de la semana. Los fines de semana, especialmente los domingos, tienen un consumo más bajo de energía.\n",
    "\n",
    "- Consumo horario de la planta por proceso: El gráfico muestra la distribución del consumo de energía en la planta a lo largo del día, desglosado por proceso. Se observa que el consumo varía a lo largo del día para cada proceso, con picos de consumo en diferentes momentos.\n",
    "\n",
    "- Se observa que el consumo de energía para la extrusora es mayor en el tercer turno donde se evidencia que desde las 22:00 horas hasta las 6:00 horas aumenta. Se recomienda validar con personal de campo las actividades y procesos que se están llevando a cabo durante este período de tiempo.\n",
    "\n",
    "\n",
    "**Sistemas de enfriamiento:**\n",
    "- Mejora de aislamiento térmico de tanques.\n",
    "\n",
    "- Agua gana aproximadamente 2°C mientras permanece almacenada en el tanque.\n",
    " \n",
    "- Incremento del factor de carga del chiller Trane.\n",
    "\n",
    "- Promedio de carga del chiller Trane es de 50%, se propone llevarlo a porcentajes de carga cercanos al 80% hasta antes de encender chillers auxiliares, teniendo en cuenta que el chiller Trane es el más eficientes los equipos disponibles."
   ]
  }
 ],
 "metadata": {
  "kernelspec": {
   "display_name": "Python 3",
   "language": "python",
   "name": "python3"
  },
  "language_info": {
   "codemirror_mode": {
    "name": "ipython",
    "version": 3
   },
   "file_extension": ".py",
   "mimetype": "text/x-python",
   "name": "python",
   "nbconvert_exporter": "python",
   "pygments_lexer": "ipython3",
   "version": "3.9.16"
  },
  "widgets": {
   "application/vnd.jupyter.widget-state+json": {
    "state": {},
    "version_major": 2,
    "version_minor": 0
   }
  }
 },
 "nbformat": 4,
 "nbformat_minor": 4
}
