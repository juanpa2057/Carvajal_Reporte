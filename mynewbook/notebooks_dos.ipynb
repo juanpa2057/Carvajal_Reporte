{
 "cells": [
  {
   "cell_type": "code",
   "execution_count": 1,
   "metadata": {
    "tags": [
     "remove-input"
    ]
   },
   "outputs": [],
   "source": [
    "import pandas as pd\n",
    "import numpy as np\n",
    "import datetime as dt\n",
    "import json\n",
    "from datetime import datetime\n",
    "\n",
    "import plotly.io as pio\n",
    "import plotly.graph_objects as go\n",
    "import plotly.express as px\n",
    "import warnings\n",
    "warnings.filterwarnings('ignore')\n",
    "\n",
    "pio.renderers.default = \"notebook\"\n",
    "pio.templates.default = \"plotly_white\"\n",
    "\n",
    "\n",
    "# this enables relative path imports\n",
    "import os\n",
    "from dotenv import load_dotenv\n",
    "load_dotenv()\n",
    "_PROJECT_PATH: str = os.environ[\"_project_path\"]\n",
    "_PICKLED_DATA_FILENAME: str = os.environ[\"_pickled_data_filename\"]\n",
    "\n",
    "import sys\n",
    "from pathlib import Path\n",
    "project_path = Path(_PROJECT_PATH)\n",
    "sys.path.append(str(project_path))\n",
    "\n",
    "import config_v2 as cfg\n",
    "\n",
    "from library_report_v2 import Cleaning as cln\n",
    "from library_report_v2 import Graphing as grp\n",
    "from library_report_v2 import Processing as pro\n",
    "from library_report_v2 import Configuration as repcfg"
   ]
  },
  {
   "cell_type": "code",
   "execution_count": null,
   "metadata": {
    "tags": [
     "remove-input"
    ]
   },
   "outputs": [],
   "source": [
    "import matplotlib.pyplot as plt\n",
    "import plotly.express as px\n",
    "import plotly.graph_objects as go\n",
    "from plotly.subplots import make_subplots"
   ]
  },
  {
   "cell_type": "code",
   "execution_count": null,
   "metadata": {
    "tags": [
     "remove-input"
    ]
   },
   "outputs": [],
   "source": [
    "periodo_historico = cfg.BASELINE\n",
    "periodo_de_estudio = cfg.STUDY"
   ]
  },
  {
   "cell_type": "code",
   "execution_count": null,
   "metadata": {
    "tags": [
     "remove-input"
    ]
   },
   "outputs": [],
   "source": [
    "def show_response_contents(df):\n",
    "    print(\"The response contains:\")\n",
    "    print(json.dumps(list(df['variable'].unique()), sort_keys=True, indent=4))\n",
    "    print(json.dumps(list(df['device'].unique()), sort_keys=True, indent=4))"
   ]
  },
  {
   "cell_type": "code",
   "execution_count": null,
   "metadata": {
    "tags": [
     "remove-input"
    ]
   },
   "outputs": [],
   "source": [
    "DEVICE_NAME = 'Reporte Carvajal'"
   ]
  },
  {
   "cell_type": "code",
   "execution_count": null,
   "metadata": {
    "tags": [
     "remove-input",
     "remove-output"
    ]
   },
   "outputs": [],
   "source": [
    "df = pd.read_pickle(project_path / 'data' / _PICKLED_DATA_FILENAME)\n",
    "#df = df.query(\"device_name == @DEVICE_NAME\")\n",
    "show_response_contents(df)"
   ]
  },
  {
   "cell_type": "code",
   "execution_count": null,
   "metadata": {
    "tags": [
     "remove-input"
    ]
   },
   "outputs": [],
   "source": [
    "conteo_variable_df = df['variable'].value_counts().to_frame().reset_index()\n",
    "conteo_variable_df.columns = ['variable', 'conteo']"
   ]
  },
  {
   "cell_type": "code",
   "execution_count": null,
   "metadata": {
    "tags": [
     "remove-input"
    ]
   },
   "outputs": [],
   "source": [
    "df = df.sort_values(by=['variable','datetime'])\n",
    "df = pro.datetime_attributes(df)"
   ]
  },
  {
   "cell_type": "code",
   "execution_count": null,
   "metadata": {
    "tags": [
     "remove-input"
    ]
   },
   "outputs": [],
   "source": [
    "ea_bomba_torre = df.query(\"variable == 'ea-cvl-bomba-torre'\").copy()\n",
    "ea_chiller = df.query(\"variable == 'ea-chiller'\").copy()\n",
    "ea_espuma = df.query(\"variable == 'ea-espuma'\").copy()\n",
    "ea_extrusora = df.query(\"variable == 'ea-extrusora-welex'\").copy()\n",
    "ea_horno = df.query(\"variable == 'ea-horno-recocido'\").copy()\n",
    "ea_termo = df.query(\"variable == 'ea-termoformadora'\").copy()\n",
    "ea_tubos = df.query(\"variable == 'ea-tubos-colapsibles'\").copy()\n",
    "ea_ventilador = df.query(\"variable == 'ea-ventilador-torre'\").copy()\n",
    "eficiencia_chiller = df.query(\"variable == 'eficiencia-chiller'\").copy()"
   ]
  },
  {
   "cell_type": "code",
   "execution_count": null,
   "metadata": {
    "tags": [
     "remove-cell",
     "remove-input"
    ]
   },
   "outputs": [],
   "source": [
    "ea_bomba_torre = cln.remove_outliers_by_zscore(ea_bomba_torre, zscore=4)\n",
    "ea_chiller = cln.remove_outliers_by_zscore(ea_chiller, zscore=4)\n",
    "ea_espuma = cln.remove_outliers_by_zscore(ea_espuma, zscore=4)\n",
    "ea_extrusora = cln.remove_outliers_by_zscore(ea_extrusora, zscore=4)\n",
    "ea_horno = cln.remove_outliers_by_zscore(ea_horno, zscore=4)\n",
    "ea_termo = cln.remove_outliers_by_zscore(ea_termo, zscore=4)\n",
    "ea_tubos = cln.remove_outliers_by_zscore(ea_tubos, zscore=4)\n",
    "ea_ventilador = cln.remove_outliers_by_zscore(ea_ventilador, zscore=4)\n",
    "\n",
    "df_ea = df.copy()\n",
    "df_ea = cln.remove_outliers_by_zscore(df_ea, zscore=4)\n",
    "eficiencia_chiller = cln.remove_outliers_by_zscore(eficiencia_chiller, zscore=4)\n",
    "\n",
    "\n",
    "eficiencia_chiller = eficiencia_chiller[eficiencia_chiller['value'] >0]"
   ]
  },
  {
   "cell_type": "code",
   "execution_count": null,
   "metadata": {
    "tags": [
     "remove-input"
    ]
   },
   "outputs": [],
   "source": [
    "ea_bomba_torre_mean = ea_bomba_torre.groupby(by=[\"variable\"]).resample('H').median().reset_index().set_index('datetime')\n",
    "ea_bomba_torre_mean = pro.datetime_attributes(ea_bomba_torre_mean)\n",
    "\n",
    "ea_chiller_mean = ea_chiller.groupby(by=[\"variable\"]).resample('H').median().reset_index().set_index('datetime')\n",
    "ea_chiller_mean = pro.datetime_attributes(ea_chiller_mean)\n",
    "\n",
    "ea_espuma_mean = ea_espuma.groupby(by=[\"variable\"]).resample('H').median().reset_index().set_index('datetime')\n",
    "ea_espuma_mean = pro.datetime_attributes(ea_espuma_mean) \n",
    "\n",
    "ea_extrusora_mean = ea_extrusora.groupby(by=[\"variable\"]).resample('H').median().reset_index().set_index('datetime')\n",
    "ea_extrusora_mean = pro.datetime_attributes(ea_extrusora_mean)\n",
    "\n",
    "ea_horno_mean = ea_horno.groupby(by=[\"variable\"]).resample('H').median().reset_index().set_index('datetime')\n",
    "ea_horno_mean = pro.datetime_attributes(ea_horno_mean)\n",
    "\n",
    "ea_termo_mean = ea_termo.groupby(by=[\"variable\"]).resample('H').median().reset_index().set_index('datetime')\n",
    "ea_termo_mean = pro.datetime_attributes(ea_termo_mean)\n",
    "\n",
    "ea_tubos_month = ea_tubos.groupby(by=[\"variable\"]).resample('H').median().reset_index().set_index('datetime')\n",
    "ea_tubos_month = pro.datetime_attributes(ea_tubos_month)\n",
    "\n",
    "df_planta = df_ea.groupby(by=[\"variable\"]).resample('H').sum().reset_index().set_index('datetime')\n",
    "df_planta = pro.datetime_attributes(df_planta)\n",
    "\n",
    "eficiencia_chiller_ok = eficiencia_chiller.groupby(by=[\"variable\"]).resample('H').mean().reset_index().set_index('datetime')\n",
    "eficiencia_chiller_ok = pro.datetime_attributes(eficiencia_chiller_ok)\n",
    "\n",
    "#para sacar las graficas de mes y tabla\n",
    "df_ea_month = df_ea.groupby(by=[\"variable\"]).resample('M').sum().reset_index().set_index('datetime')\n",
    "df_ea_month = pro.datetime_attributes(df_ea_month)\n",
    "\n",
    "\n",
    "#para sacar las graficas por tabla\n",
    "df_turno= df_ea.groupby(by=[\"variable\"]).resample('H').sum().reset_index().set_index('datetime')\n",
    "df_turno = pro.datetime_attributes(df_turno)\n",
    "\n",
    "#df_ea_eficiencia = eficiencia_chiller.groupby(by=[\"variable\"]).resample('D').mean().reset_index().set_index('datetime')\n",
    "#df_ea_eficiencia = pro.datetime_attributes(df_ea_eficiencia)"
   ]
  },
  {
   "cell_type": "code",
   "execution_count": null,
   "metadata": {
    "tags": [
     "remove-input"
    ]
   },
   "outputs": [],
   "source": [
    "valores_a_buscar = [\n",
    "    \"ea-cvl-bomba-torre\",\n",
    "    \"ea-chiller\",\n",
    "    \"ea-espuma\",\n",
    "    \"ea-extrusora-welex\",\n",
    "    \"ea-horno-recocido\",\n",
    "    \"ea-termoformadora\",\n",
    "    \"ea-tubos-colapsibles\",\n",
    "    \"ea-ventilador-torre\"\n",
    "]\n",
    "\n",
    "mapeo = {\n",
    "    \"ea-cvl-bomba-torre\": \"Consumo bomba torre\",\n",
    "    \"ea-chiller\": \"Consumo chiller\",\n",
    "    \"ea-espuma\": \"Consumo espuma\",\n",
    "    \"ea-extrusora-welex\": \"Consumo extrusora\",\n",
    "    \"ea-horno-recocido\": \"Consumo horno recocido\",\n",
    "    \"ea-termoformadora\": \"Consumo termoformadora\",\n",
    "    \"ea-tubos-colapsibles\": \"Consumo linea 7\",\n",
    "    \"ea-ventilador-torre\": \"Consumo ventilador torres\"\n",
    "}"
   ]
  },
  {
   "cell_type": "code",
   "execution_count": null,
   "metadata": {
    "tags": [
     "remove-input"
    ]
   },
   "outputs": [],
   "source": [
    "# Reemplazar los valores en la columna 'variable'\n",
    "df['variable'] = df['variable'].replace(mapeo)"
   ]
  },
  {
   "cell_type": "code",
   "execution_count": null,
   "metadata": {
    "tags": [
     "remove-input"
    ]
   },
   "outputs": [],
   "source": [
    "df_energia = df_ea_month[df_ea_month['variable'].isin(valores_a_buscar)]\n",
    "df_energia['variable'] = df_energia['variable'].replace(mapeo)\n",
    "\n",
    "turno = df_turno[df_turno['variable'].isin(valores_a_buscar)]\n",
    "turno['variable'] = turno['variable'].replace(mapeo)\n",
    "\n",
    "\n",
    "consumo_maquinas = df_planta[df_planta['variable'].isin(valores_a_buscar)]\n",
    "consumo_maquinas['variable'] = consumo_maquinas['variable'].replace(mapeo)\n"
   ]
  },
  {
   "cell_type": "markdown",
   "metadata": {
    "tags": [
     "remove-input"
    ]
   },
   "source": [
    "## Informe Gestión de Energia"
   ]
  },
  {
   "cell_type": "markdown",
   "metadata": {},
   "source": [
    "A continuación, encontrarás un resumen de la distribución del consumo de energía por mes correspondiente al monitoreo de energía (kWh) entre agosto a diciembre de 2023."
   ]
  },
  {
   "cell_type": "code",
   "execution_count": null,
   "metadata": {
    "tags": [
     "remove-input",
     "remove-output"
    ]
   },
   "outputs": [],
   "source": [
    "import plotly.graph_objects as go\n",
    "import pandas as pd\n",
    "\n",
    "# Asumiendo que df_energia está cargado con los datos correctos\n",
    "\n",
    "# Ordenar el DataFrame por variable y mes de manera descendente\n",
    "df_energia = df_energia.sort_values(by=['variable', 'month'], ascending=[True, False])\n",
    "\n",
    "# Redondear y formatear los valores sin decimales\n",
    "df_energia['value_formatted'] = df_energia['value'].round(0).apply(lambda x: f'{x:,.0f}')"
   ]
  },
  {
   "cell_type": "code",
   "execution_count": null,
   "metadata": {
    "tags": [
     "remove-input",
     "remove-output"
    ]
   },
   "outputs": [],
   "source": [
    "df_energia_pivot = df_energia.pivot_table(index= 'variable', columns='month', values='value_formatted', aggfunc='first')"
   ]
  },
  {
   "cell_type": "code",
   "execution_count": null,
   "metadata": {
    "tags": [
     "remove-input"
    ]
   },
   "outputs": [],
   "source": [
    "import plotly.graph_objects as go\n",
    "\n",
    "# Crear la tabla\n",
    "fig = go.Figure(data=[go.Table(\n",
    "    header=dict(values=['Proceso','Ago', 'Sep','Oct', 'Nov', 'Dic']),\n",
    "    cells=dict(values=[df_energia_pivot.index, \n",
    "                       df_energia_pivot[8],\n",
    "                       df_energia_pivot[9],\n",
    "                       df_energia_pivot[10],  # Usar los valores formateados\n",
    "                       df_energia_pivot[11],\n",
    "                       df_energia_pivot[12]],\n",
    "               align=['left','center', 'center', 'center', 'center', 'center']))  # Ajustar la alineación de las celdas\n",
    "])\n",
    "\n",
    "# Ajustar el diseño y formato\n",
    "fig.update_layout(\n",
    "    title='Datos de Consumo de Energía por Máquina y Mes (kWh)',\n",
    "    font=dict(size=11),  # Ajustar el tamaño del texto\n",
    "    template='plotly_white'  # Cambiar el tema a plotly_white\n",
    ")\n",
    "\n",
    "# Mostrar la tabla\n",
    "fig.show()\n"
   ]
  },
  {
   "cell_type": "markdown",
   "metadata": {},
   "source": [
    "Se representa el consumo acumulado de energía en kWh por máquina durante los meses de agosto a diciembre del 2023:\n",
    "\n",
    "- Energía Activa Extrusora: Esta máquina tiene la mayor parte del consumo con un 38% del total.\n",
    "- Energía Activa Chiller: Esta máquina tiene el segundo mayor consumo con un 25% del total.\n",
    "- Energía Activa Espumas: Esta máquina tiene el tercer mayor consumo con un 15% del total.\n",
    "\n",
    "Las secciones restantes del gráfico representan otras máquinas con porcentajes de consumo menores. Este informe de gestión de energía proporciona una visión clara de cómo se distribuye el consumo de energía entre las diferentes máquinas en estos tres meses."
   ]
  },
  {
   "cell_type": "code",
   "execution_count": null,
   "metadata": {
    "tags": [
     "remove-input"
    ]
   },
   "outputs": [],
   "source": [
    "# Agrupar por máquina y sumar la energía\n",
    "df_grouped = df_energia.groupby('variable').sum().reset_index()\n",
    "df_grouped['variable']=df_grouped['variable'].str.capitalize()\n",
    "# Crear el gráfico de torta\n",
    "fig = px.pie(df_grouped, values='value', names='variable', \n",
    "             title='Distribución del Consumo de Energía por Máquina',\n",
    "             labels={'variable': 'Máquina', 'value': 'Consumo de Energía'},\n",
    "             color_discrete_sequence=px.colors.qualitative.Set1)\n",
    "\n",
    "# Habilitar la interactividad para agregar/quitar máquinas\n",
    "fig.update_traces(hoverinfo='label+percent', textinfo='value+percent', pull=[0.1]*len(df_grouped))\n",
    "\n",
    "# Mostrar el gráfico\n",
    "fig.show()\n"
   ]
  },
  {
   "cell_type": "code",
   "execution_count": null,
   "metadata": {
    "tags": [
     "remove-input"
    ]
   },
   "outputs": [],
   "source": [
    "df_ea_pivot = df_energia.pivot_table(values='value', index='datetime', columns='variable')"
   ]
  },
  {
   "cell_type": "code",
   "execution_count": null,
   "metadata": {
    "tags": [
     "remove-input"
    ]
   },
   "outputs": [],
   "source": [
    "import calendar\n",
    "columns_name = ['ea-chiller', 'ea-cvl-bomba-torre', 'ea-espuma', 'ea-extrusora-welex',\n",
    "       'ea-horno-recocido', 'ea-termoformadora', 'ea-tubos-colapsibles',\n",
    "       'ea-ventilador-torre']\n",
    " \n",
    " \n",
    "# Get the month name from the month number\n",
    "df_ea_pivot['Mes'] = df_ea_pivot.index.month.map(lambda x: calendar.month_name[x])\n",
    " \n",
    "# Group by month and sum the columns\n",
    "df_ea_pivot = df_ea_pivot.groupby('Mes').sum([columns_name])\n",
    "#df_ea_pivot = df_ea_pivot.groupby(df_ea_pivot['Mes']).sum([columns_name])\n"
   ]
  },
  {
   "cell_type": "code",
   "execution_count": null,
   "metadata": {
    "tags": [
     "remove-input"
    ]
   },
   "outputs": [],
   "source": [
    "df_ea_pivot = df_ea_pivot.reset_index()\n",
    "\n",
    "df_ea_pivot['Mes'] = df_ea_pivot['Mes'].replace({'August': 'Agosto', 'October': 'Octubre', 'September': 'Septiembre', 'November': 'Noviembre', 'December': 'Diciembre'})\n",
    "\n",
    "# Definir el nuevo orden de los meses\n",
    "nuevo_orden_meses = ['Agosto', 'Septiembre', 'Octubre', 'Noviembre', 'Diciembre']\n",
    "\n",
    "# Cambiar el índice usando reindex\n",
    "df_ea_pivot = df_ea_pivot.set_index('Mes').reindex(nuevo_orden_meses).reset_index()\n",
    "\n",
    "# Convertir la columna \"Mes\" en el índice\n",
    "df_ea_pivot = df_ea_pivot.set_index('Mes')\n",
    "\n",
    "# agrego esto:\n",
    "\n",
    "dt_total = df_ea_pivot.copy()\n",
    "# Sumar a lo largo de las columnas y agregar una nueva columna \"Total\"\n",
    "dt_total['Total'] = df_ea_pivot.sum(axis=1)\n",
    "\n",
    "# Resetear el índice para tener \"variable\" como una columna nuevamente\n",
    "dt_total.reset_index(inplace=True)\n"
   ]
  },
  {
   "cell_type": "markdown",
   "metadata": {},
   "source": [
    "Se presenta el consumo acumulado por proceso mensual, destacando que el mayor consumo de energía ocurrió en Octubre:\n",
    "\n",
    "- Agosto: 358,213 kWh/mes\n",
    "- Septiembre: 380,615 kWh/mes\n",
    "- Octubre: 393,443 kWh/mes\"\n",
    "- Noviembre: 390,716 kWh/mes\"\n",
    "- Diciembre: 342,421 kWh/mes\""
   ]
  },
  {
   "cell_type": "code",
   "execution_count": null,
   "metadata": {
    "tags": [
     "remove-input"
    ]
   },
   "outputs": [],
   "source": [
    "\n",
    "fig = px.bar(df_ea_pivot)\n",
    "fig.update_layout(\n",
    "        title = \"Comsumo por Maquina\",\n",
    "        width=800,\n",
    "        height=600,\n",
    "        yaxis_title=\"Consumo energia (kWh)\",\n",
    "        showlegend = True,\n",
    "        legend_title=\"Proceso\",\n",
    " \n",
    ")"
   ]
  },
  {
   "cell_type": "code",
   "execution_count": null,
   "metadata": {
    "tags": [
     "remove-input"
    ]
   },
   "outputs": [],
   "source": [
    "ea_bomba_torre_mean['value'] = ea_bomba_torre_mean['value'].round(2)\n",
    "ea_chiller_mean['value'] = ea_chiller_mean['value'].round(2)\n",
    "ea_espuma_mean['value'] = ea_espuma_mean['value'].round(2)\n",
    "ea_extrusora_mean['value'] = ea_extrusora_mean['value'].round(2)\n",
    "ea_horno_mean['value'] = ea_horno_mean['value'].round(2)\n",
    "ea_termo_mean['value'] = ea_termo_mean['value'].round(2)\n",
    "ea_tubos_month['value'] = ea_tubos_month['value'].round(2)\n",
    "df_ea_month['value'] = df_ea_month['value'].round(2)\n",
    "df_planta['value'] = df_planta['value'].round(2)\n",
    "consumo_maquinas['value'] = consumo_maquinas['value'].round(2)\n",
    "eficiencia_chiller_ok['value'] = eficiencia_chiller_ok['value'].round(2)"
   ]
  },
  {
   "cell_type": "code",
   "execution_count": null,
   "metadata": {
    "tags": [
     "remove-input"
    ]
   },
   "outputs": [],
   "source": [
    "ea_bomba_torre_dia = ea_bomba_torre_mean.groupby([\"hour\", \"dow\"])[\"value\"].mean().reset_index()\n",
    "ea_chiller_dia = ea_chiller_mean.groupby([\"hour\", \"dow\"])[\"value\"].mean().reset_index()\n",
    "ea_espuma_dia = ea_espuma_mean.groupby([\"hour\", \"dow\"])[\"value\"].mean().reset_index()\n",
    "ea_extrusora_dia = ea_extrusora_mean.groupby([\"hour\", \"dow\"])[\"value\"].mean().reset_index()\n",
    "ea_horno_dia = ea_horno_mean.groupby([\"hour\", \"dow\"])[\"value\"].mean().reset_index()\n",
    "ea_termo_dia = ea_termo_mean.groupby([\"hour\", \"dow\"])[\"value\"].mean().reset_index()\n",
    "ea_tubos_dia = ea_tubos_month.groupby([\"hour\", \"dow\"])[\"value\"].mean().reset_index()\n",
    "df_planta = df_planta.groupby([\"hour\", \"dow\"])[\"value\"].sum().reset_index()\n",
    "eficiencia_chiller_ok = eficiencia_chiller_ok.groupby([\"hour\", \"dow\"])[\"value\"].mean().reset_index()\n",
    "consumo_maquinas = consumo_maquinas.groupby([\"hour\", \"variable\"])[\"value\"].mean().reset_index()\n",
    "\n"
   ]
  }
 ],
 "metadata": {
  "kernelspec": {
   "display_name": "Python 3",
   "language": "python",
   "name": "python3"
  },
  "language_info": {
   "codemirror_mode": {
    "name": "ipython",
    "version": 3
   },
   "file_extension": ".py",
   "mimetype": "text/x-python",
   "name": "python",
   "nbconvert_exporter": "python",
   "pygments_lexer": "ipython3",
   "version": "3.9.16"
  },
  "widgets": {
   "application/vnd.jupyter.widget-state+json": {
    "state": {},
    "version_major": 2,
    "version_minor": 0
   }
  }
 },
 "nbformat": 4,
 "nbformat_minor": 4
}
